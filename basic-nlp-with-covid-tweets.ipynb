{
 "cells": [
  {
   "cell_type": "code",
   "execution_count": 1,
   "id": "bcdfc690",
   "metadata": {
    "_cell_guid": "b1076dfc-b9ad-4769-8c92-a6c4dae69d19",
    "_uuid": "8f2839f25d086af736a60e9eeb907d3b93b6e0e5",
    "execution": {
     "iopub.execute_input": "2021-10-01T06:39:40.867766Z",
     "iopub.status.busy": "2021-10-01T06:39:40.867008Z",
     "iopub.status.idle": "2021-10-01T06:39:41.528313Z",
     "shell.execute_reply": "2021-10-01T06:39:41.528856Z",
     "shell.execute_reply.started": "2021-10-01T06:39:00.332761Z"
    },
    "papermill": {
     "duration": 0.688297,
     "end_time": "2021-10-01T06:39:41.529346",
     "exception": false,
     "start_time": "2021-10-01T06:39:40.841049",
     "status": "completed"
    },
    "tags": []
   },
   "outputs": [
    {
     "name": "stdout",
     "output_type": "stream",
     "text": [
      "/kaggle/input/covid19-tweets/covid19_tweets.csv\n"
     ]
    }
   ],
   "source": [
    "# This Python 3 environment comes with many helpful analytics libraries installed\n",
    "# It is defined by the kaggle/python Docker image: https://github.com/kaggle/docker-python\n",
    "# For example, here's several helpful packages to load\n",
    "\n",
    "import numpy as np # linear algebra\n",
    "import pandas as pd # data processing, CSV file I/O (e.g. pd.read_csv)\n",
    "import spacy\n",
    "\n",
    "# Input data files are available in the read-only \"../input/\" directory\n",
    "# For example, running this (by clicking run or pressing Shift+Enter) will list all files under the input directory\n",
    "\n",
    "import os\n",
    "for dirname, _, filenames in os.walk('/kaggle/input'):\n",
    "    for filename in filenames:\n",
    "        print(os.path.join(dirname, filename))\n",
    "\n",
    "# You can write up to 20GB to the current directory (/kaggle/working/) that gets preserved as output when you create a version using \"Save & Run All\" \n",
    "# You can also write temporary files to /kaggle/temp/, but they won't be saved outside of the current session"
   ]
  },
  {
   "cell_type": "markdown",
   "id": "01293f97",
   "metadata": {
    "papermill": {
     "duration": 0.017895,
     "end_time": "2021-10-01T06:39:41.567499",
     "exception": false,
     "start_time": "2021-10-01T06:39:41.549604",
     "status": "completed"
    },
    "tags": []
   },
   "source": [
    "**Read the Tweets**"
   ]
  },
  {
   "cell_type": "code",
   "execution_count": 2,
   "id": "5a37a39d",
   "metadata": {
    "execution": {
     "iopub.execute_input": "2021-10-01T06:39:41.599125Z",
     "iopub.status.busy": "2021-10-01T06:39:41.598152Z",
     "iopub.status.idle": "2021-10-01T06:39:44.273290Z",
     "shell.execute_reply": "2021-10-01T06:39:44.273831Z",
     "shell.execute_reply.started": "2021-10-01T06:39:00.718004Z"
    },
    "papermill": {
     "duration": 2.693293,
     "end_time": "2021-10-01T06:39:44.274036",
     "exception": false,
     "start_time": "2021-10-01T06:39:41.580743",
     "status": "completed"
    },
    "tags": []
   },
   "outputs": [],
   "source": [
    "tweets = pd.read_csv('../input/covid19-tweets/covid19_tweets.csv')"
   ]
  },
  {
   "cell_type": "code",
   "execution_count": 3,
   "id": "e85450f1",
   "metadata": {
    "execution": {
     "iopub.execute_input": "2021-10-01T06:39:44.308472Z",
     "iopub.status.busy": "2021-10-01T06:39:44.307786Z",
     "iopub.status.idle": "2021-10-01T06:39:44.327629Z",
     "shell.execute_reply": "2021-10-01T06:39:44.328151Z",
     "shell.execute_reply.started": "2021-10-01T06:39:02.380013Z"
    },
    "papermill": {
     "duration": 0.041963,
     "end_time": "2021-10-01T06:39:44.328325",
     "exception": false,
     "start_time": "2021-10-01T06:39:44.286362",
     "status": "completed"
    },
    "tags": []
   },
   "outputs": [
    {
     "data": {
      "text/html": [
       "<div>\n",
       "<style scoped>\n",
       "    .dataframe tbody tr th:only-of-type {\n",
       "        vertical-align: middle;\n",
       "    }\n",
       "\n",
       "    .dataframe tbody tr th {\n",
       "        vertical-align: top;\n",
       "    }\n",
       "\n",
       "    .dataframe thead th {\n",
       "        text-align: right;\n",
       "    }\n",
       "</style>\n",
       "<table border=\"1\" class=\"dataframe\">\n",
       "  <thead>\n",
       "    <tr style=\"text-align: right;\">\n",
       "      <th></th>\n",
       "      <th>user_name</th>\n",
       "      <th>user_location</th>\n",
       "      <th>user_description</th>\n",
       "      <th>user_created</th>\n",
       "      <th>user_followers</th>\n",
       "      <th>user_friends</th>\n",
       "      <th>user_favourites</th>\n",
       "      <th>user_verified</th>\n",
       "      <th>date</th>\n",
       "      <th>text</th>\n",
       "      <th>hashtags</th>\n",
       "      <th>source</th>\n",
       "      <th>is_retweet</th>\n",
       "    </tr>\n",
       "  </thead>\n",
       "  <tbody>\n",
       "    <tr>\n",
       "      <th>0</th>\n",
       "      <td>ᏉᎥ☻լꂅϮ</td>\n",
       "      <td>astroworld</td>\n",
       "      <td>wednesday addams as a disney princess keepin i...</td>\n",
       "      <td>2017-05-26 05:46:42</td>\n",
       "      <td>624</td>\n",
       "      <td>950</td>\n",
       "      <td>18775</td>\n",
       "      <td>False</td>\n",
       "      <td>2020-07-25 12:27:21</td>\n",
       "      <td>If I smelled the scent of hand sanitizers toda...</td>\n",
       "      <td>NaN</td>\n",
       "      <td>Twitter for iPhone</td>\n",
       "      <td>False</td>\n",
       "    </tr>\n",
       "    <tr>\n",
       "      <th>1</th>\n",
       "      <td>Tom Basile 🇺🇸</td>\n",
       "      <td>New York, NY</td>\n",
       "      <td>Husband, Father, Columnist &amp; Commentator. Auth...</td>\n",
       "      <td>2009-04-16 20:06:23</td>\n",
       "      <td>2253</td>\n",
       "      <td>1677</td>\n",
       "      <td>24</td>\n",
       "      <td>True</td>\n",
       "      <td>2020-07-25 12:27:17</td>\n",
       "      <td>Hey @Yankees @YankeesPR and @MLB - wouldn't it...</td>\n",
       "      <td>NaN</td>\n",
       "      <td>Twitter for Android</td>\n",
       "      <td>False</td>\n",
       "    </tr>\n",
       "    <tr>\n",
       "      <th>2</th>\n",
       "      <td>Time4fisticuffs</td>\n",
       "      <td>Pewee Valley, KY</td>\n",
       "      <td>#Christian #Catholic #Conservative #Reagan #Re...</td>\n",
       "      <td>2009-02-28 18:57:41</td>\n",
       "      <td>9275</td>\n",
       "      <td>9525</td>\n",
       "      <td>7254</td>\n",
       "      <td>False</td>\n",
       "      <td>2020-07-25 12:27:14</td>\n",
       "      <td>@diane3443 @wdunlap @realDonaldTrump Trump nev...</td>\n",
       "      <td>['COVID19']</td>\n",
       "      <td>Twitter for Android</td>\n",
       "      <td>False</td>\n",
       "    </tr>\n",
       "    <tr>\n",
       "      <th>3</th>\n",
       "      <td>ethel mertz</td>\n",
       "      <td>Stuck in the Middle</td>\n",
       "      <td>#Browns #Indians #ClevelandProud #[]_[] #Cavs ...</td>\n",
       "      <td>2019-03-07 01:45:06</td>\n",
       "      <td>197</td>\n",
       "      <td>987</td>\n",
       "      <td>1488</td>\n",
       "      <td>False</td>\n",
       "      <td>2020-07-25 12:27:10</td>\n",
       "      <td>@brookbanktv The one gift #COVID19 has give me...</td>\n",
       "      <td>['COVID19']</td>\n",
       "      <td>Twitter for iPhone</td>\n",
       "      <td>False</td>\n",
       "    </tr>\n",
       "    <tr>\n",
       "      <th>4</th>\n",
       "      <td>DIPR-J&amp;K</td>\n",
       "      <td>Jammu and Kashmir</td>\n",
       "      <td>🖊️Official Twitter handle of Department of Inf...</td>\n",
       "      <td>2017-02-12 06:45:15</td>\n",
       "      <td>101009</td>\n",
       "      <td>168</td>\n",
       "      <td>101</td>\n",
       "      <td>False</td>\n",
       "      <td>2020-07-25 12:27:08</td>\n",
       "      <td>25 July : Media Bulletin on Novel #CoronaVirus...</td>\n",
       "      <td>['CoronaVirusUpdates', 'COVID19']</td>\n",
       "      <td>Twitter for Android</td>\n",
       "      <td>False</td>\n",
       "    </tr>\n",
       "  </tbody>\n",
       "</table>\n",
       "</div>"
      ],
      "text/plain": [
       "         user_name         user_location  \\\n",
       "0           ᏉᎥ☻լꂅϮ            astroworld   \n",
       "1    Tom Basile 🇺🇸          New York, NY   \n",
       "2  Time4fisticuffs      Pewee Valley, KY   \n",
       "3      ethel mertz  Stuck in the Middle    \n",
       "4         DIPR-J&K     Jammu and Kashmir   \n",
       "\n",
       "                                    user_description         user_created  \\\n",
       "0  wednesday addams as a disney princess keepin i...  2017-05-26 05:46:42   \n",
       "1  Husband, Father, Columnist & Commentator. Auth...  2009-04-16 20:06:23   \n",
       "2  #Christian #Catholic #Conservative #Reagan #Re...  2009-02-28 18:57:41   \n",
       "3  #Browns #Indians #ClevelandProud #[]_[] #Cavs ...  2019-03-07 01:45:06   \n",
       "4  🖊️Official Twitter handle of Department of Inf...  2017-02-12 06:45:15   \n",
       "\n",
       "   user_followers  user_friends  user_favourites  user_verified  \\\n",
       "0             624           950            18775          False   \n",
       "1            2253          1677               24           True   \n",
       "2            9275          9525             7254          False   \n",
       "3             197           987             1488          False   \n",
       "4          101009           168              101          False   \n",
       "\n",
       "                  date                                               text  \\\n",
       "0  2020-07-25 12:27:21  If I smelled the scent of hand sanitizers toda...   \n",
       "1  2020-07-25 12:27:17  Hey @Yankees @YankeesPR and @MLB - wouldn't it...   \n",
       "2  2020-07-25 12:27:14  @diane3443 @wdunlap @realDonaldTrump Trump nev...   \n",
       "3  2020-07-25 12:27:10  @brookbanktv The one gift #COVID19 has give me...   \n",
       "4  2020-07-25 12:27:08  25 July : Media Bulletin on Novel #CoronaVirus...   \n",
       "\n",
       "                            hashtags               source  is_retweet  \n",
       "0                                NaN   Twitter for iPhone       False  \n",
       "1                                NaN  Twitter for Android       False  \n",
       "2                        ['COVID19']  Twitter for Android       False  \n",
       "3                        ['COVID19']   Twitter for iPhone       False  \n",
       "4  ['CoronaVirusUpdates', 'COVID19']  Twitter for Android       False  "
      ]
     },
     "execution_count": 3,
     "metadata": {},
     "output_type": "execute_result"
    }
   ],
   "source": [
    "tweets.head()"
   ]
  },
  {
   "cell_type": "markdown",
   "id": "865b4898",
   "metadata": {
    "papermill": {
     "duration": 0.012928,
     "end_time": "2021-10-01T06:39:44.354134",
     "exception": false,
     "start_time": "2021-10-01T06:39:44.341206",
     "status": "completed"
    },
    "tags": []
   },
   "source": [
    "**Load the pre-trained model**"
   ]
  },
  {
   "cell_type": "code",
   "execution_count": 4,
   "id": "8e3b9880",
   "metadata": {
    "execution": {
     "iopub.execute_input": "2021-10-01T06:39:44.383952Z",
     "iopub.status.busy": "2021-10-01T06:39:44.383301Z",
     "iopub.status.idle": "2021-10-01T06:39:45.721788Z",
     "shell.execute_reply": "2021-10-01T06:39:45.722356Z",
     "shell.execute_reply.started": "2021-10-01T06:39:02.398288Z"
    },
    "papermill": {
     "duration": 1.355268,
     "end_time": "2021-10-01T06:39:45.722562",
     "exception": false,
     "start_time": "2021-10-01T06:39:44.367294",
     "status": "completed"
    },
    "tags": []
   },
   "outputs": [],
   "source": [
    "nlp = spacy.load(\"en_core_web_sm\")"
   ]
  },
  {
   "cell_type": "markdown",
   "id": "3096572b",
   "metadata": {
    "papermill": {
     "duration": 0.012312,
     "end_time": "2021-10-01T06:39:45.747908",
     "exception": false,
     "start_time": "2021-10-01T06:39:45.735596",
     "status": "completed"
    },
    "tags": []
   },
   "source": [
    "**Extract text from Pandas Colum**"
   ]
  },
  {
   "cell_type": "code",
   "execution_count": 5,
   "id": "076507eb",
   "metadata": {
    "execution": {
     "iopub.execute_input": "2021-10-01T06:39:45.776610Z",
     "iopub.status.busy": "2021-10-01T06:39:45.775958Z",
     "iopub.status.idle": "2021-10-01T06:39:45.783936Z",
     "shell.execute_reply": "2021-10-01T06:39:45.784468Z",
     "shell.execute_reply.started": "2021-10-01T06:39:03.521121Z"
    },
    "papermill": {
     "duration": 0.024141,
     "end_time": "2021-10-01T06:39:45.784644",
     "exception": false,
     "start_time": "2021-10-01T06:39:45.760503",
     "status": "completed"
    },
    "tags": []
   },
   "outputs": [],
   "source": [
    "text=str(tweets['text'])"
   ]
  },
  {
   "cell_type": "code",
   "execution_count": 6,
   "id": "43f1ae43",
   "metadata": {
    "execution": {
     "iopub.execute_input": "2021-10-01T06:39:45.818934Z",
     "iopub.status.busy": "2021-10-01T06:39:45.814287Z",
     "iopub.status.idle": "2021-10-01T06:39:45.870344Z",
     "shell.execute_reply": "2021-10-01T06:39:45.870899Z",
     "shell.execute_reply.started": "2021-10-01T06:39:03.528294Z"
    },
    "papermill": {
     "duration": 0.073369,
     "end_time": "2021-10-01T06:39:45.871095",
     "exception": false,
     "start_time": "2021-10-01T06:39:45.797726",
     "status": "completed"
    },
    "tags": []
   },
   "outputs": [],
   "source": [
    "doc = nlp(text)"
   ]
  },
  {
   "cell_type": "markdown",
   "id": "bcfb92b4",
   "metadata": {
    "papermill": {
     "duration": 0.012603,
     "end_time": "2021-10-01T06:39:45.897367",
     "exception": false,
     "start_time": "2021-10-01T06:39:45.884764",
     "status": "completed"
    },
    "tags": []
   },
   "source": [
    "**Parts of Speech**"
   ]
  },
  {
   "cell_type": "code",
   "execution_count": 7,
   "id": "d0c52e1e",
   "metadata": {
    "execution": {
     "iopub.execute_input": "2021-10-01T06:39:45.927037Z",
     "iopub.status.busy": "2021-10-01T06:39:45.926373Z",
     "iopub.status.idle": "2021-10-01T06:39:45.964322Z",
     "shell.execute_reply": "2021-10-01T06:39:45.964896Z",
     "shell.execute_reply.started": "2021-10-01T06:39:03.573998Z"
    },
    "papermill": {
     "duration": 0.054786,
     "end_time": "2021-10-01T06:39:45.965136",
     "exception": false,
     "start_time": "2021-10-01T06:39:45.910350",
     "status": "completed"
    },
    "tags": []
   },
   "outputs": [
    {
     "name": "stdout",
     "output_type": "stream",
     "text": [
      "0 PUNCT\n",
      "         SPACE\n",
      "If SCONJ\n",
      "I PRON\n",
      "smelled VERB\n",
      "the DET\n",
      "scent NOUN\n",
      "of ADP\n",
      "hand PROPN\n",
      "sanitizers NOUN\n",
      "toda PROPN\n",
      "... PUNCT\n",
      "\n",
      " SPACE\n",
      "1 NUM\n",
      "         SPACE\n",
      "Hey INTJ\n",
      "@Yankees PROPN\n",
      "@YankeesPR PROPN\n",
      "and CCONJ\n",
      "@MLB PROPN\n",
      "- PUNCT\n",
      "would VERB\n",
      "n't PART\n",
      "it PRON\n",
      "... PUNCT\n",
      "\n",
      " SPACE\n",
      "2 NUM\n",
      "         SPACE\n",
      "@diane3443 NOUN\n",
      "@wdunlap X\n",
      "@realDonaldTrump PROPN\n",
      "Trump PROPN\n",
      "nev NOUN\n",
      "... PUNCT\n",
      "\n",
      " SPACE\n",
      "3 NUM\n",
      "         SPACE\n",
      "@brookbanktv PUNCT\n",
      "The DET\n",
      "one NUM\n",
      "gift NOUN\n",
      "# NOUN\n",
      "COVID19 NOUN\n",
      "has AUX\n",
      "give VERB\n",
      "me PRON\n",
      "... PUNCT\n",
      "\n",
      " SPACE\n",
      "4 NUM\n",
      "         SPACE\n",
      "25 NUM\n",
      "July PROPN\n",
      ": PUNCT\n",
      "Media PROPN\n",
      "Bulletin PROPN\n",
      "on ADP\n",
      "Novel PROPN\n",
      "# SYM\n",
      "CoronaVirus PROPN\n",
      "... PUNCT\n",
      "\n",
      "                                 SPACE\n",
      "... PUNCT\n",
      "                       \n",
      " SPACE\n",
      "179103 NUM\n",
      "    SPACE\n",
      "Thanks INTJ\n",
      "@IamOhmai X\n",
      "for ADP\n",
      "nominating VERB\n",
      "me PRON\n",
      "for ADP\n",
      "the DET\n",
      "@WH NOUN\n",
      "... PUNCT\n",
      "\n",
      " SPACE\n",
      "179104 NUM\n",
      "    SPACE\n",
      "2020 NUM\n",
      "! PUNCT\n",
      "The DET\n",
      "year NOUN\n",
      "of ADP\n",
      "insanity NOUN\n",
      "! PUNCT\n",
      "Lol PROPN\n",
      "! PUNCT\n",
      "# SYM\n",
      "COVID19 NOUN\n",
      "http NOUN\n",
      "... PUNCT\n",
      "\n",
      " SPACE\n",
      "179105 NUM\n",
      "    SPACE\n",
      "@CTVNews PROPN\n",
      "A DET\n",
      "powerful ADJ\n",
      "painting NOUN\n",
      "by ADP\n",
      "Juan PROPN\n",
      "Lucena PROPN\n",
      ". PUNCT\n",
      "I PRON\n",
      "... PUNCT\n",
      "\n",
      " SPACE\n",
      "179106 NUM\n",
      "    SPACE\n",
      "More ADJ\n",
      "than SCONJ\n",
      "1,200 NUM\n",
      "students NOUN\n",
      "test VERB\n",
      "positive ADJ\n",
      "for ADP\n",
      "# PROPN\n",
      "CO PROPN\n",
      "... PUNCT\n",
      "\n",
      " SPACE\n",
      "179107 NUM\n",
      "    SPACE\n",
      "I PRON\n",
      "stop VERB\n",
      "when ADV\n",
      "I PRON\n",
      "see VERB\n",
      "a DET\n",
      "Stop\\n\\n@SABCNews\\n@Izinda NOUN\n",
      "... PUNCT\n",
      "\n",
      " SPACE\n",
      "Name NOUN\n",
      ": PUNCT\n",
      "text NOUN\n",
      ", PUNCT\n",
      "Length NOUN\n",
      ": PUNCT\n",
      "179108 NUM\n",
      ", PUNCT\n",
      "dtype NOUN\n",
      ": PUNCT\n",
      "object NOUN\n"
     ]
    }
   ],
   "source": [
    "#Parts of Speech - pos\n",
    "for token in doc:\n",
    "    print(token.text, token.pos_)"
   ]
  },
  {
   "cell_type": "markdown",
   "id": "b0e98996",
   "metadata": {
    "papermill": {
     "duration": 0.013446,
     "end_time": "2021-10-01T06:39:45.993162",
     "exception": false,
     "start_time": "2021-10-01T06:39:45.979716",
     "status": "completed"
    },
    "tags": []
   },
   "source": [
    "**Named Entity Recognition**"
   ]
  },
  {
   "cell_type": "code",
   "execution_count": 8,
   "id": "1dd38e5b",
   "metadata": {
    "execution": {
     "iopub.execute_input": "2021-10-01T06:39:46.027262Z",
     "iopub.status.busy": "2021-10-01T06:39:46.026482Z",
     "iopub.status.idle": "2021-10-01T06:39:46.030246Z",
     "shell.execute_reply": "2021-10-01T06:39:46.029608Z",
     "shell.execute_reply.started": "2021-10-01T06:39:07.528662Z"
    },
    "papermill": {
     "duration": 0.023662,
     "end_time": "2021-10-01T06:39:46.030399",
     "exception": false,
     "start_time": "2021-10-01T06:39:46.006737",
     "status": "completed"
    },
    "tags": []
   },
   "outputs": [
    {
     "data": {
      "text/html": [
       "<span class=\"tex2jax_ignore\"><div class=\"entities\" style=\"line-height: 2.5; direction: ltr\">0         If I smelled the scent of hand sanitizers toda...</br>\n",
       "<mark class=\"entity\" style=\"background: #e4e7d2; padding: 0.45em 0.6em; margin: 0 0.25em; line-height: 1; border-radius: 0.35em;\">\n",
       "    1\n",
       "    <span style=\"font-size: 0.8em; font-weight: bold; line-height: 1; border-radius: 0.35em; text-transform: uppercase; vertical-align: middle; margin-left: 0.5rem\">CARDINAL</span>\n",
       "</mark>\n",
       "         Hey @Yankees @YankeesPR and \n",
       "<mark class=\"entity\" style=\"background: #7aecec; padding: 0.45em 0.6em; margin: 0 0.25em; line-height: 1; border-radius: 0.35em;\">\n",
       "    @MLB\n",
       "    <span style=\"font-size: 0.8em; font-weight: bold; line-height: 1; border-radius: 0.35em; text-transform: uppercase; vertical-align: middle; margin-left: 0.5rem\">ORG</span>\n",
       "</mark>\n",
       " - wouldn't it...</br>\n",
       "<mark class=\"entity\" style=\"background: #e4e7d2; padding: 0.45em 0.6em; margin: 0 0.25em; line-height: 1; border-radius: 0.35em;\">\n",
       "    2\n",
       "    <span style=\"font-size: 0.8em; font-weight: bold; line-height: 1; border-radius: 0.35em; text-transform: uppercase; vertical-align: middle; margin-left: 0.5rem\">CARDINAL</span>\n",
       "</mark>\n",
       "         @diane3443 @wdunlap @realDonaldTrump Trump nev...</br>\n",
       "<mark class=\"entity\" style=\"background: #e4e7d2; padding: 0.45em 0.6em; margin: 0 0.25em; line-height: 1; border-radius: 0.35em;\">\n",
       "    3\n",
       "    <span style=\"font-size: 0.8em; font-weight: bold; line-height: 1; border-radius: 0.35em; text-transform: uppercase; vertical-align: middle; margin-left: 0.5rem\">CARDINAL</span>\n",
       "</mark>\n",
       "         @brookbanktv The \n",
       "<mark class=\"entity\" style=\"background: #e4e7d2; padding: 0.45em 0.6em; margin: 0 0.25em; line-height: 1; border-radius: 0.35em;\">\n",
       "    one\n",
       "    <span style=\"font-size: 0.8em; font-weight: bold; line-height: 1; border-radius: 0.35em; text-transform: uppercase; vertical-align: middle; margin-left: 0.5rem\">CARDINAL</span>\n",
       "</mark>\n",
       " gift #\n",
       "<mark class=\"entity\" style=\"background: #7aecec; padding: 0.45em 0.6em; margin: 0 0.25em; line-height: 1; border-radius: 0.35em;\">\n",
       "    COVID19\n",
       "    <span style=\"font-size: 0.8em; font-weight: bold; line-height: 1; border-radius: 0.35em; text-transform: uppercase; vertical-align: middle; margin-left: 0.5rem\">ORG</span>\n",
       "</mark>\n",
       " has give me...</br>\n",
       "<mark class=\"entity\" style=\"background: #e4e7d2; padding: 0.45em 0.6em; margin: 0 0.25em; line-height: 1; border-radius: 0.35em;\">\n",
       "    4\n",
       "    <span style=\"font-size: 0.8em; font-weight: bold; line-height: 1; border-radius: 0.35em; text-transform: uppercase; vertical-align: middle; margin-left: 0.5rem\">CARDINAL</span>\n",
       "</mark>\n",
       "         25 July : Media Bulletin on Novel \n",
       "<mark class=\"entity\" style=\"background: #e4e7d2; padding: 0.45em 0.6em; margin: 0 0.25em; line-height: 1; border-radius: 0.35em;\">\n",
       "    #\n",
       "    <span style=\"font-size: 0.8em; font-weight: bold; line-height: 1; border-radius: 0.35em; text-transform: uppercase; vertical-align: middle; margin-left: 0.5rem\">CARDINAL</span>\n",
       "</mark>\n",
       "CoronaVirus...</br>                                ...                        </br>\n",
       "<mark class=\"entity\" style=\"background: #bfe1d9; padding: 0.45em 0.6em; margin: 0 0.25em; line-height: 1; border-radius: 0.35em;\">\n",
       "    179103\n",
       "    <span style=\"font-size: 0.8em; font-weight: bold; line-height: 1; border-radius: 0.35em; text-transform: uppercase; vertical-align: middle; margin-left: 0.5rem\">DATE</span>\n",
       "</mark>\n",
       "    Thanks \n",
       "<mark class=\"entity\" style=\"background: #bfeeb7; padding: 0.45em 0.6em; margin: 0 0.25em; line-height: 1; border-radius: 0.35em;\">\n",
       "    @IamOhmai\n",
       "    <span style=\"font-size: 0.8em; font-weight: bold; line-height: 1; border-radius: 0.35em; text-transform: uppercase; vertical-align: middle; margin-left: 0.5rem\">PRODUCT</span>\n",
       "</mark>\n",
       " for nominating me for the @WH...</br>\n",
       "<mark class=\"entity\" style=\"background: #bfe1d9; padding: 0.45em 0.6em; margin: 0 0.25em; line-height: 1; border-radius: 0.35em;\">\n",
       "    179104\n",
       "    <span style=\"font-size: 0.8em; font-weight: bold; line-height: 1; border-radius: 0.35em; text-transform: uppercase; vertical-align: middle; margin-left: 0.5rem\">DATE</span>\n",
       "</mark>\n",
       "    2020! \n",
       "<mark class=\"entity\" style=\"background: #bfe1d9; padding: 0.45em 0.6em; margin: 0 0.25em; line-height: 1; border-radius: 0.35em;\">\n",
       "    The year\n",
       "    <span style=\"font-size: 0.8em; font-weight: bold; line-height: 1; border-radius: 0.35em; text-transform: uppercase; vertical-align: middle; margin-left: 0.5rem\">DATE</span>\n",
       "</mark>\n",
       " of insanity! Lol! \n",
       "<mark class=\"entity\" style=\"background: #e4e7d2; padding: 0.45em 0.6em; margin: 0 0.25em; line-height: 1; border-radius: 0.35em;\">\n",
       "    #\n",
       "    <span style=\"font-size: 0.8em; font-weight: bold; line-height: 1; border-radius: 0.35em; text-transform: uppercase; vertical-align: middle; margin-left: 0.5rem\">CARDINAL</span>\n",
       "</mark>\n",
       "COVID19 http...</br>\n",
       "<mark class=\"entity\" style=\"background: #bfe1d9; padding: 0.45em 0.6em; margin: 0 0.25em; line-height: 1; border-radius: 0.35em;\">\n",
       "    179105\n",
       "    <span style=\"font-size: 0.8em; font-weight: bold; line-height: 1; border-radius: 0.35em; text-transform: uppercase; vertical-align: middle; margin-left: 0.5rem\">DATE</span>\n",
       "</mark>\n",
       "    \n",
       "<mark class=\"entity\" style=\"background: #7aecec; padding: 0.45em 0.6em; margin: 0 0.25em; line-height: 1; border-radius: 0.35em;\">\n",
       "    @CTVNews\n",
       "    <span style=\"font-size: 0.8em; font-weight: bold; line-height: 1; border-radius: 0.35em; text-transform: uppercase; vertical-align: middle; margin-left: 0.5rem\">ORG</span>\n",
       "</mark>\n",
       " A powerful painting by \n",
       "<mark class=\"entity\" style=\"background: #aa9cfc; padding: 0.45em 0.6em; margin: 0 0.25em; line-height: 1; border-radius: 0.35em;\">\n",
       "    Juan Lucena\n",
       "    <span style=\"font-size: 0.8em; font-weight: bold; line-height: 1; border-radius: 0.35em; text-transform: uppercase; vertical-align: middle; margin-left: 0.5rem\">PERSON</span>\n",
       "</mark>\n",
       ". I...</br>\n",
       "<mark class=\"entity\" style=\"background: #bfe1d9; padding: 0.45em 0.6em; margin: 0 0.25em; line-height: 1; border-radius: 0.35em;\">\n",
       "    179106\n",
       "    <span style=\"font-size: 0.8em; font-weight: bold; line-height: 1; border-radius: 0.35em; text-transform: uppercase; vertical-align: middle; margin-left: 0.5rem\">DATE</span>\n",
       "</mark>\n",
       "    \n",
       "<mark class=\"entity\" style=\"background: #e4e7d2; padding: 0.45em 0.6em; margin: 0 0.25em; line-height: 1; border-radius: 0.35em;\">\n",
       "    More than 1,200\n",
       "    <span style=\"font-size: 0.8em; font-weight: bold; line-height: 1; border-radius: 0.35em; text-transform: uppercase; vertical-align: middle; margin-left: 0.5rem\">CARDINAL</span>\n",
       "</mark>\n",
       " students test positive for \n",
       "<mark class=\"entity\" style=\"background: #e4e7d2; padding: 0.45em 0.6em; margin: 0 0.25em; line-height: 1; border-radius: 0.35em;\">\n",
       "    #\n",
       "    <span style=\"font-size: 0.8em; font-weight: bold; line-height: 1; border-radius: 0.35em; text-transform: uppercase; vertical-align: middle; margin-left: 0.5rem\">CARDINAL</span>\n",
       "</mark>\n",
       "CO...</br>\n",
       "<mark class=\"entity\" style=\"background: #e4e7d2; padding: 0.45em 0.6em; margin: 0 0.25em; line-height: 1; border-radius: 0.35em;\">\n",
       "    179107\n",
       "    <span style=\"font-size: 0.8em; font-weight: bold; line-height: 1; border-radius: 0.35em; text-transform: uppercase; vertical-align: middle; margin-left: 0.5rem\">CARDINAL</span>\n",
       "</mark>\n",
       "    I stop when I see a Stop\\n\\n@SABCNews\\n@Izinda...</br>Name: text, \n",
       "<mark class=\"entity\" style=\"background: #aa9cfc; padding: 0.45em 0.6em; margin: 0 0.25em; line-height: 1; border-radius: 0.35em;\">\n",
       "    Length\n",
       "    <span style=\"font-size: 0.8em; font-weight: bold; line-height: 1; border-radius: 0.35em; text-transform: uppercase; vertical-align: middle; margin-left: 0.5rem\">PERSON</span>\n",
       "</mark>\n",
       ": \n",
       "<mark class=\"entity\" style=\"background: #bfe1d9; padding: 0.45em 0.6em; margin: 0 0.25em; line-height: 1; border-radius: 0.35em;\">\n",
       "    179108\n",
       "    <span style=\"font-size: 0.8em; font-weight: bold; line-height: 1; border-radius: 0.35em; text-transform: uppercase; vertical-align: middle; margin-left: 0.5rem\">DATE</span>\n",
       "</mark>\n",
       ", dtype: object</div></span>"
      ],
      "text/plain": [
       "<IPython.core.display.HTML object>"
      ]
     },
     "metadata": {},
     "output_type": "display_data"
    }
   ],
   "source": [
    "spacy.displacy.render(doc,style='ent',jupyter=True)"
   ]
  },
  {
   "cell_type": "markdown",
   "id": "2824b80d",
   "metadata": {
    "papermill": {
     "duration": 0.01394,
     "end_time": "2021-10-01T06:39:46.058729",
     "exception": false,
     "start_time": "2021-10-01T06:39:46.044789",
     "status": "completed"
    },
    "tags": []
   },
   "source": [
    "**Extracting a particular entity type**"
   ]
  },
  {
   "cell_type": "code",
   "execution_count": 9,
   "id": "f4124a49",
   "metadata": {
    "execution": {
     "iopub.execute_input": "2021-10-01T06:39:46.092902Z",
     "iopub.status.busy": "2021-10-01T06:39:46.092248Z",
     "iopub.status.idle": "2021-10-01T06:39:46.095566Z",
     "shell.execute_reply": "2021-10-01T06:39:46.096084Z",
     "shell.execute_reply.started": "2021-10-01T06:39:17.387635Z"
    },
    "papermill": {
     "duration": 0.022796,
     "end_time": "2021-10-01T06:39:46.096267",
     "exception": false,
     "start_time": "2021-10-01T06:39:46.073471",
     "status": "completed"
    },
    "tags": []
   },
   "outputs": [
    {
     "name": "stdout",
     "output_type": "stream",
     "text": [
      "Juan Lucena PERSON\n",
      "Length PERSON\n"
     ]
    }
   ],
   "source": [
    "for ent in doc.ents:\n",
    "    if ent.label_ == 'PERSON':\n",
    "        print(ent.text,ent.label_)"
   ]
  },
  {
   "cell_type": "code",
   "execution_count": null,
   "id": "3adc71e1",
   "metadata": {
    "papermill": {
     "duration": 0.014088,
     "end_time": "2021-10-01T06:39:46.125096",
     "exception": false,
     "start_time": "2021-10-01T06:39:46.111008",
     "status": "completed"
    },
    "tags": []
   },
   "outputs": [],
   "source": []
  }
 ],
 "metadata": {
  "kernelspec": {
   "display_name": "Python 3",
   "language": "python",
   "name": "python3"
  },
  "language_info": {
   "codemirror_mode": {
    "name": "ipython",
    "version": 3
   },
   "file_extension": ".py",
   "mimetype": "text/x-python",
   "name": "python",
   "nbconvert_exporter": "python",
   "pygments_lexer": "ipython3",
   "version": "3.7.10"
  },
  "papermill": {
   "default_parameters": {},
   "duration": 14.472883,
   "end_time": "2021-10-01T06:39:46.849199",
   "environment_variables": {},
   "exception": null,
   "input_path": "__notebook__.ipynb",
   "output_path": "__notebook__.ipynb",
   "parameters": {},
   "start_time": "2021-10-01T06:39:32.376316",
   "version": "2.3.3"
  }
 },
 "nbformat": 4,
 "nbformat_minor": 5
}
